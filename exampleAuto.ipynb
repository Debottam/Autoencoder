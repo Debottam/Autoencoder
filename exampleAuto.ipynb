{
 "cells": [
  {
   "cell_type": "code",
   "execution_count": 12,
   "metadata": {},
   "outputs": [],
   "source": [
    "import tensorflow as tf\n",
    "import keras as keras\n",
    "import matplotlib.pyplot as plt\n",
    "import numpy as np"
   ]
  },
  {
   "cell_type": "code",
   "execution_count": 13,
   "metadata": {},
   "outputs": [
    {
     "data": {
      "text/plain": [
       "'1.14.0'"
      ]
     },
     "execution_count": 13,
     "metadata": {},
     "output_type": "execute_result"
    }
   ],
   "source": [
    "tf.__version__"
   ]
  },
  {
   "cell_type": "code",
   "execution_count": 14,
   "metadata": {
    "collapsed": true
   },
   "outputs": [],
   "source": [
    "mnist = keras.datasets.mnist"
   ]
  },
  {
   "cell_type": "code",
   "execution_count": 58,
   "metadata": {
    "collapsed": true
   },
   "outputs": [],
   "source": [
    "(x_train, y_train),(x_test, y_test) = mnist.load_data()"
   ]
  },
  {
   "cell_type": "code",
   "execution_count": 16,
   "metadata": {},
   "outputs": [
    {
     "data": {
      "text/plain": [
       "(28, 28)"
      ]
     },
     "execution_count": 16,
     "metadata": {},
     "output_type": "execute_result"
    }
   ],
   "source": [
    "x_train[0].shape\n"
   ]
  },
  {
   "cell_type": "code",
   "execution_count": 17,
   "metadata": {},
   "outputs": [
    {
     "data": {
      "text/plain": [
       "<matplotlib.image.AxesImage at 0x7f0daa9983d0>"
      ]
     },
     "execution_count": 17,
     "metadata": {},
     "output_type": "execute_result"
    },
    {
     "data": {
      "image/png": "[encoded data removed]",
      "text/plain": [
       "<Figure size 432x288 with 1 Axes>"
      ]
     },
     "metadata": {
      "needs_background": "light"
     },
     "output_type": "display_data"
    }
   ],
   "source": [
    "plt.imshow(x_train[0], cmap=plt.cm.binary)"
   ]
  },
  {
   "cell_type": "code",
   "execution_count": 18,
   "metadata": {
    "collapsed": true
   },
   "outputs": [],
   "source": [
    "#print(x_train[0])"
   ]
  },
  {
   "cell_type": "code",
   "execution_count": 27,
   "metadata": {},
   "outputs": [
    {
     "name": "stdout",
     "output_type": "stream",
     "text": [
      "(60000, 784)\n",
      "(10000, 784)\n"
     ]
    }
   ],
   "source": [
    "X_train = keras.utils.normalize(x_train, axis=1)\n",
    "X_test = keras.utils.normalize(x_test, axis=1)\n",
    "\n",
    "X_train = X_train.reshape(len(X_train), np.prod(X_train.shape[1:]))\n",
    "X_test = X_test.reshape(len(X_test), np.prod(X_test.shape[1:]))\n",
    "\n",
    "print(X_train.shape)\n",
    "print(X_test.shape)"
   ]
  },
  {
   "cell_type": "code",
   "execution_count": 38,
   "metadata": {},
   "outputs": [
    {
     "name": "stdout",
     "output_type": "stream",
     "text": [
      "Train on 60000 samples, validate on 10000 samples\n",
      "Epoch 1/100\n",
      "60000/60000 [==============================] - 4s 67us/step - loss: 0.3066 - val_loss: 0.1686\n",
      "Epoch 2/100\n",
      "60000/60000 [==============================] - 3s 51us/step - loss: 0.1677 - val_loss: 0.1670\n",
      "Epoch 3/100\n",
      "60000/60000 [==============================] - 3s 50us/step - loss: 0.1667 - val_loss: 0.1663\n",
      "Epoch 4/100\n",
      "60000/60000 [==============================] - 3s 50us/step - loss: 0.1662 - val_loss: 0.1659\n",
      "Epoch 5/100\n",
      "60000/60000 [==============================] - 3s 50us/step - loss: 0.1659 - val_loss: 0.1657\n",
      "Epoch 6/100\n",
      "60000/60000 [==============================] - 3s 49us/step - loss: 0.1657 - val_loss: 0.1655\n",
      "Epoch 7/100\n",
      "60000/60000 [==============================] - 3s 50us/step - loss: 0.1656 - val_loss: 0.1655\n",
      "Epoch 8/100\n",
      "60000/60000 [==============================] - 3s 49us/step - loss: 0.1655 - val_loss: 0.1653\n",
      "Epoch 9/100\n",
      "60000/60000 [==============================] - 3s 49us/step - loss: 0.1654 - val_loss: 0.1652\n",
      "Epoch 10/100\n",
      "60000/60000 [==============================] - 3s 50us/step - loss: 0.1654 - val_loss: 0.1652\n",
      "Epoch 11/100\n",
      "60000/60000 [==============================] - 3s 50us/step - loss: 0.1653 - val_loss: 0.1650\n",
      "Epoch 12/100\n",
      "60000/60000 [==============================] - 3s 49us/step - loss: 0.1652 - val_loss: 0.1651\n",
      "Epoch 13/100\n",
      "60000/60000 [==============================] - 3s 49us/step - loss: 0.1650 - val_loss: 0.1648\n",
      "Epoch 14/100\n",
      "60000/60000 [==============================] - 3s 49us/step - loss: 0.1647 - val_loss: 0.1641\n",
      "Epoch 15/100\n",
      "60000/60000 [==============================] - 3s 49us/step - loss: 0.1633 - val_loss: 0.1617\n",
      "Epoch 16/100\n",
      "60000/60000 [==============================] - 3s 50us/step - loss: 0.1606 - val_loss: 0.1594\n",
      "Epoch 17/100\n",
      "60000/60000 [==============================] - 3s 49us/step - loss: 0.1584 - val_loss: 0.1572\n",
      "Epoch 18/100\n",
      "60000/60000 [==============================] - 3s 50us/step - loss: 0.1563 - val_loss: 0.1555\n",
      "Epoch 19/100\n",
      "60000/60000 [==============================] - 3s 50us/step - loss: 0.1550 - val_loss: 0.1544\n",
      "Epoch 20/100\n",
      "60000/60000 [==============================] - 3s 49us/step - loss: 0.1540 - val_loss: 0.1536\n",
      "Epoch 21/100\n",
      "60000/60000 [==============================] - 3s 50us/step - loss: 0.1532 - val_loss: 0.1527\n",
      "Epoch 22/100\n",
      "60000/60000 [==============================] - 3s 50us/step - loss: 0.1522 - val_loss: 0.1517\n",
      "Epoch 23/100\n",
      "60000/60000 [==============================] - 3s 50us/step - loss: 0.1509 - val_loss: 0.1504\n",
      "Epoch 24/100\n",
      "60000/60000 [==============================] - 3s 49us/step - loss: 0.1498 - val_loss: 0.1494\n",
      "Epoch 25/100\n",
      "60000/60000 [==============================] - 3s 50us/step - loss: 0.1489 - val_loss: 0.1487\n",
      "Epoch 26/100\n",
      "60000/60000 [==============================] - 3s 50us/step - loss: 0.1482 - val_loss: 0.1481\n",
      "Epoch 27/100\n",
      "60000/60000 [==============================] - 3s 49us/step - loss: 0.1477 - val_loss: 0.1475\n",
      "Epoch 28/100\n",
      "60000/60000 [==============================] - 3s 50us/step - loss: 0.1473 - val_loss: 0.1472\n",
      "Epoch 29/100\n",
      "60000/60000 [==============================] - 3s 49us/step - loss: 0.1469 - val_loss: 0.1469\n",
      "Epoch 30/100\n",
      "60000/60000 [==============================] - 3s 50us/step - loss: 0.1466 - val_loss: 0.1465\n",
      "Epoch 31/100\n",
      "60000/60000 [==============================] - 3s 49us/step - loss: 0.1463 - val_loss: 0.1461\n",
      "Epoch 32/100\n",
      "60000/60000 [==============================] - 3s 49us/step - loss: 0.1460 - val_loss: 0.1459\n",
      "Epoch 33/100\n",
      "60000/60000 [==============================] - 3s 49us/step - loss: 0.1457 - val_loss: 0.1455\n",
      "Epoch 34/100\n",
      "60000/60000 [==============================] - 3s 49us/step - loss: 0.1454 - val_loss: 0.1452\n",
      "Epoch 35/100\n",
      "60000/60000 [==============================] - 3s 49us/step - loss: 0.1450 - val_loss: 0.1450\n",
      "Epoch 36/100\n",
      "60000/60000 [==============================] - 3s 50us/step - loss: 0.1446 - val_loss: 0.1446\n",
      "Epoch 37/100\n",
      "60000/60000 [==============================] - 3s 49us/step - loss: 0.1441 - val_loss: 0.1439\n",
      "Epoch 38/100\n",
      "60000/60000 [==============================] - 3s 49us/step - loss: 0.1434 - val_loss: 0.1429\n",
      "Epoch 39/100\n",
      "60000/60000 [==============================] - 3s 50us/step - loss: 0.1424 - val_loss: 0.1421\n",
      "Epoch 40/100\n",
      "60000/60000 [==============================] - 3s 49us/step - loss: 0.1416 - val_loss: 0.1414\n",
      "Epoch 41/100\n",
      "60000/60000 [==============================] - 3s 50us/step - loss: 0.1411 - val_loss: 0.1410\n",
      "Epoch 42/100\n",
      "60000/60000 [==============================] - 3s 49us/step - loss: 0.1407 - val_loss: 0.1407\n",
      "Epoch 43/100\n",
      "60000/60000 [==============================] - 3s 50us/step - loss: 0.1403 - val_loss: 0.1403\n",
      "Epoch 44/100\n",
      "60000/60000 [==============================] - 3s 49us/step - loss: 0.1400 - val_loss: 0.1399\n",
      "Epoch 45/100\n",
      "60000/60000 [==============================] - 3s 49us/step - loss: 0.1397 - val_loss: 0.1397\n",
      "Epoch 46/100\n",
      "60000/60000 [==============================] - 3s 50us/step - loss: 0.1394 - val_loss: 0.1395\n",
      "Epoch 47/100\n",
      "60000/60000 [==============================] - 3s 49us/step - loss: 0.1392 - val_loss: 0.1394\n",
      "Epoch 48/100\n",
      "60000/60000 [==============================] - 3s 49us/step - loss: 0.1390 - val_loss: 0.1391\n",
      "Epoch 49/100\n",
      "60000/60000 [==============================] - 3s 50us/step - loss: 0.1388 - val_loss: 0.1390\n",
      "Epoch 50/100\n",
      "60000/60000 [==============================] - 3s 50us/step - loss: 0.1385 - val_loss: 0.1388\n",
      "Epoch 51/100\n",
      "60000/60000 [==============================] - 3s 49us/step - loss: 0.1383 - val_loss: 0.1385\n",
      "Epoch 52/100\n",
      "60000/60000 [==============================] - 3s 49us/step - loss: 0.1381 - val_loss: 0.1383\n",
      "Epoch 53/100\n",
      "60000/60000 [==============================] - 3s 50us/step - loss: 0.1379 - val_loss: 0.1381\n",
      "Epoch 54/100\n",
      "60000/60000 [==============================] - 3s 50us/step - loss: 0.1377 - val_loss: 0.1379\n",
      "Epoch 55/100\n",
      "60000/60000 [==============================] - 3s 49us/step - loss: 0.1375 - val_loss: 0.1376\n",
      "Epoch 56/100\n",
      "60000/60000 [==============================] - 3s 49us/step - loss: 0.1372 - val_loss: 0.1378\n",
      "Epoch 57/100\n",
      "60000/60000 [==============================] - 3s 49us/step - loss: 0.1369 - val_loss: 0.1369\n",
      "Epoch 58/100\n",
      "60000/60000 [==============================] - 3s 50us/step - loss: 0.1366 - val_loss: 0.1372\n",
      "Epoch 59/100\n",
      "60000/60000 [==============================] - 3s 49us/step - loss: 0.1364 - val_loss: 0.1363\n",
      "Epoch 60/100\n",
      "60000/60000 [==============================] - 3s 50us/step - loss: 0.1361 - val_loss: 0.1362\n",
      "Epoch 61/100\n",
      "60000/60000 [==============================] - 3s 50us/step - loss: 0.1358 - val_loss: 0.1357\n",
      "Epoch 62/100\n",
      "60000/60000 [==============================] - 3s 49us/step - loss: 0.1354 - val_loss: 0.1356\n",
      "Epoch 63/100\n",
      "60000/60000 [==============================] - 3s 50us/step - loss: 0.1352 - val_loss: 0.1356\n",
      "Epoch 64/100\n",
      "60000/60000 [==============================] - 3s 49us/step - loss: 0.1350 - val_loss: 0.1350\n",
      "Epoch 65/100\n",
      "60000/60000 [==============================] - 3s 49us/step - loss: 0.1347 - val_loss: 0.1348\n",
      "Epoch 66/100\n",
      "60000/60000 [==============================] - 3s 49us/step - loss: 0.1345 - val_loss: 0.1348\n",
      "Epoch 67/100\n",
      "60000/60000 [==============================] - 3s 50us/step - loss: 0.1343 - val_loss: 0.1343\n",
      "Epoch 68/100\n",
      "60000/60000 [==============================] - 3s 48us/step - loss: 0.1340 - val_loss: 0.1343\n",
      "Epoch 69/100\n",
      "60000/60000 [==============================] - 3s 49us/step - loss: 0.1337 - val_loss: 0.1341\n",
      "Epoch 70/100\n",
      "60000/60000 [==============================] - 3s 50us/step - loss: 0.1336 - val_loss: 0.1337\n",
      "Epoch 71/100\n",
      "60000/60000 [==============================] - 3s 49us/step - loss: 0.1333 - val_loss: 0.1340\n",
      "Epoch 72/100\n",
      "60000/60000 [==============================] - 3s 50us/step - loss: 0.1331 - val_loss: 0.1337\n",
      "Epoch 73/100\n",
      "60000/60000 [==============================] - 3s 49us/step - loss: 0.1329 - val_loss: 0.1329\n",
      "Epoch 74/100\n",
      "60000/60000 [==============================] - 3s 49us/step - loss: 0.1326 - val_loss: 0.1326\n",
      "Epoch 75/100\n",
      "60000/60000 [==============================] - 3s 49us/step - loss: 0.1324 - val_loss: 0.1326\n",
      "Epoch 76/100\n",
      "60000/60000 [==============================] - 3s 49us/step - loss: 0.1323 - val_loss: 0.1325\n",
      "Epoch 77/100\n"
     ]
    },
    {
     "name": "stdout",
     "output_type": "stream",
     "text": [
      "60000/60000 [==============================] - 3s 50us/step - loss: 0.1321 - val_loss: 0.1321\n",
      "Epoch 78/100\n",
      "60000/60000 [==============================] - 3s 49us/step - loss: 0.1319 - val_loss: 0.1321\n",
      "Epoch 79/100\n",
      "60000/60000 [==============================] - 3s 49us/step - loss: 0.1317 - val_loss: 0.1319\n",
      "Epoch 80/100\n",
      "60000/60000 [==============================] - 3s 49us/step - loss: 0.1316 - val_loss: 0.1319\n",
      "Epoch 81/100\n",
      "60000/60000 [==============================] - 3s 49us/step - loss: 0.1314 - val_loss: 0.1322\n",
      "Epoch 82/100\n",
      "60000/60000 [==============================] - 3s 49us/step - loss: 0.1313 - val_loss: 0.1314\n",
      "Epoch 83/100\n",
      "60000/60000 [==============================] - 3s 49us/step - loss: 0.1312 - val_loss: 0.1315\n",
      "Epoch 84/100\n",
      "60000/60000 [==============================] - 3s 49us/step - loss: 0.1311 - val_loss: 0.1316\n",
      "Epoch 85/100\n",
      "60000/60000 [==============================] - 3s 49us/step - loss: 0.1309 - val_loss: 0.1312\n",
      "Epoch 86/100\n",
      "60000/60000 [==============================] - 3s 50us/step - loss: 0.1309 - val_loss: 0.1310\n",
      "Epoch 87/100\n",
      "60000/60000 [==============================] - 3s 50us/step - loss: 0.1307 - val_loss: 0.1309\n",
      "Epoch 88/100\n",
      "60000/60000 [==============================] - 3s 48us/step - loss: 0.1306 - val_loss: 0.1307\n",
      "Epoch 89/100\n",
      "60000/60000 [==============================] - 3s 50us/step - loss: 0.1304 - val_loss: 0.1308\n",
      "Epoch 90/100\n",
      "60000/60000 [==============================] - 3s 49us/step - loss: 0.1303 - val_loss: 0.1305\n",
      "Epoch 91/100\n",
      "60000/60000 [==============================] - 3s 49us/step - loss: 0.1302 - val_loss: 0.1308\n",
      "Epoch 92/100\n",
      "60000/60000 [==============================] - 3s 49us/step - loss: 0.1301 - val_loss: 0.1303\n",
      "Epoch 93/100\n",
      "60000/60000 [==============================] - 3s 50us/step - loss: 0.1299 - val_loss: 0.1304\n",
      "Epoch 94/100\n",
      "60000/60000 [==============================] - 3s 49us/step - loss: 0.1298 - val_loss: 0.1300\n",
      "Epoch 95/100\n",
      "60000/60000 [==============================] - 3s 49us/step - loss: 0.1297 - val_loss: 0.1297\n",
      "Epoch 96/100\n",
      "60000/60000 [==============================] - 3s 49us/step - loss: 0.1295 - val_loss: 0.1298\n",
      "Epoch 97/100\n",
      "60000/60000 [==============================] - 3s 49us/step - loss: 0.1294 - val_loss: 0.1299\n",
      "Epoch 98/100\n",
      "60000/60000 [==============================] - 3s 50us/step - loss: 0.1293 - val_loss: 0.1295\n",
      "Epoch 99/100\n",
      "60000/60000 [==============================] - 3s 50us/step - loss: 0.1291 - val_loss: 0.1293\n",
      "Epoch 100/100\n",
      "60000/60000 [==============================] - 3s 49us/step - loss: 0.1290 - val_loss: 0.1293\n"
     ]
    },
    {
     "data": {
      "text/plain": [
       "<keras.callbacks.History at 0x7f0cec352b50>"
      ]
     },
     "execution_count": 38,
     "metadata": {},
     "output_type": "execute_result"
    }
   ],
   "source": [
    "input_img = keras.models.Input(shape=(784,))\n",
    "encoded = keras.layers.Dense(128, activation= tf.nn.relu)(input_img)\n",
    "encoded = keras.layers.Dense(64, activation= tf.nn.relu)(encoded)\n",
    "encoded = keras.layers.Dense(32, activation= tf.nn.relu)(encoded)\n",
    "encoded = keras.layers.Dense(16, activation= tf.nn.relu)(encoded) #the latent layer \n",
    "decoded = keras.layers.Dense(64, activation= tf.nn.relu)(encoded)\n",
    "decoded = keras.layers.Dense(128, activation= tf.nn.relu)(decoded)\n",
    "decoded = keras.layers.Dense(784, activation= tf.nn.sigmoid)(decoded)\n",
    "\n",
    "encoder = keras.Model(input_img, encoded)\n",
    "autoencoder = keras.Model(input_img, decoded)\n",
    "autoencoder.compile(optimizer='adadelta', loss='binary_crossentropy')\n",
    "\n",
    "autoencoder.fit(X_train, X_train,\n",
    "                epochs=100,\n",
    "                batch_size=256,\n",
    "                shuffle=True,\n",
    "                validation_data=(X_test, X_test))\n"
   ]
  },
  {
   "cell_type": "code",
   "execution_count": 33,
   "metadata": {},
   "outputs": [
    {
     "name": "stdout",
     "output_type": "stream",
     "text": [
      "_________________________________________________________________\n",
      "Layer (type)                 Output Shape              Param #   \n",
      "=================================================================\n",
      "input_13 (InputLayer)        (None, 784)               0         \n",
      "_________________________________________________________________\n",
      "dense_68 (Dense)             (None, 128)               100480    \n",
      "_________________________________________________________________\n",
      "dense_69 (Dense)             (None, 64)                8256      \n",
      "_________________________________________________________________\n",
      "dense_70 (Dense)             (None, 32)                2080      \n",
      "_________________________________________________________________\n",
      "dense_71 (Dense)             (None, 16)                528       \n",
      "_________________________________________________________________\n",
      "dense_72 (Dense)             (None, 64)                1088      \n",
      "_________________________________________________________________\n",
      "dense_73 (Dense)             (None, 128)               8320      \n",
      "_________________________________________________________________\n",
      "dense_74 (Dense)             (None, 784)               101136    \n",
      "=================================================================\n",
      "Total params: 221,888\n",
      "Trainable params: 221,888\n",
      "Non-trainable params: 0\n",
      "_________________________________________________________________\n"
     ]
    }
   ],
   "source": [
    "autoencoder.summary()"
   ]
  },
  {
   "cell_type": "code",
   "execution_count": 39,
   "metadata": {},
   "outputs": [
    {
     "name": "stdout",
     "output_type": "stream",
     "text": [
      "_________________________________________________________________\n",
      "Layer (type)                 Output Shape              Param #   \n",
      "=================================================================\n",
      "input_14 (InputLayer)        (None, 784)               0         \n",
      "_________________________________________________________________\n",
      "dense_75 (Dense)             (None, 128)               100480    \n",
      "_________________________________________________________________\n",
      "dense_76 (Dense)             (None, 64)                8256      \n",
      "_________________________________________________________________\n",
      "dense_77 (Dense)             (None, 32)                2080      \n",
      "_________________________________________________________________\n",
      "dense_78 (Dense)             (None, 16)                528       \n",
      "=================================================================\n",
      "Total params: 111,344\n",
      "Trainable params: 111,344\n",
      "Non-trainable params: 0\n",
      "_________________________________________________________________\n"
     ]
    }
   ],
   "source": [
    "encoder.summary()"
   ]
  },
  {
   "cell_type": "code",
   "execution_count": 40,
   "metadata": {
    "collapsed": true
   },
   "outputs": [],
   "source": [
    "encoded_imgs = encoder.predict(X_test)\n",
    "predicted = autoencoder.predict(X_test)"
   ]
  },
  {
   "cell_type": "code",
   "execution_count": 42,
   "metadata": {},
   "outputs": [
    {
     "data": {
      "image/png": "[encoded data removed]",
      "text/plain": [
       "<Figure size 2880x288 with 30 Axes>"
      ]
     },
     "metadata": {
      "needs_background": "light"
     },
     "output_type": "display_data"
    }
   ],
   "source": [
    "plt.figure(figsize=(40, 4))\n",
    "for i in range(10):\n",
    "    # display original images\n",
    "    ax = plt.subplot(3, 20, i + 1)\n",
    "    plt.imshow(X_test[i].reshape(28, 28))\n",
    "    plt.gray()\n",
    "    ax.get_xaxis().set_visible(False)\n",
    "    ax.get_yaxis().set_visible(False)\n",
    "    \n",
    "    # display encoded images\n",
    "    ax = plt.subplot(3, 20, i + 1 + 20)\n",
    "    plt.imshow(encoded_imgs[i].reshape(4,4))\n",
    "    plt.gray()\n",
    "    ax.get_xaxis().set_visible(False)\n",
    "    ax.get_yaxis().set_visible(False)\n",
    "# display reconstructed images\n",
    "    ax = plt.subplot(3, 20, 2*20 +i+ 1)\n",
    "    plt.imshow(predicted[i].reshape(28, 28))\n",
    "    plt.gray()\n",
    "    ax.get_xaxis().set_visible(False)\n",
    "    ax.get_yaxis().set_visible(False)\n",
    "  \n",
    "    \n",
    "plt.show()"
   ]
  },
  {
   "cell_type": "code",
   "execution_count": 43,
   "metadata": {
    "collapsed": true
   },
   "outputs": [],
   "source": [
    "autoencoder.save('mnist_autoencoder.model')"
   ]
  },
  {
   "cell_type": "code",
   "execution_count": 44,
   "metadata": {
    "collapsed": true
   },
   "outputs": [],
   "source": [
    "encoder.save('mnist_encoder.model')"
   ]
  },
  {
   "cell_type": "code",
   "execution_count": 51,
   "metadata": {},
   "outputs": [],
   "source": [
    "X = encoder.predict(X_train)"
   ]
  },
  {
   "cell_type": "code",
   "execution_count": 62,
   "metadata": {},
   "outputs": [
    {
     "data": {
      "text/plain": [
       "(60000, 16)"
      ]
     },
     "execution_count": 62,
     "metadata": {},
     "output_type": "execute_result"
    }
   ],
   "source": [
    "X.shape\n"
   ]
  },
  {
   "cell_type": "code",
   "execution_count": 71,
   "metadata": {
    "scrolled": true
   },
   "outputs": [
    {
     "name": "stdout",
     "output_type": "stream",
     "text": [
      "Epoch 1/3\n",
      "60000/60000 [==============================] - 3s 50us/step - loss: 1.6846 - acc: 0.5866\n",
      "Epoch 2/3\n",
      "60000/60000 [==============================] - 2s 41us/step - loss: 0.6740 - acc: 0.7792\n",
      "Epoch 3/3\n",
      "60000/60000 [==============================] - 2s 41us/step - loss: 0.6357 - acc: 0.7928\n"
     ]
    },
    {
     "data": {
      "text/plain": [
       "<keras.callbacks.History at 0x7f0c943a9b10>"
      ]
     },
     "execution_count": 71,
     "metadata": {},
     "output_type": "execute_result"
    }
   ],
   "source": [
    "\n",
    "model = keras.models.Sequential()\n",
    "\n",
    "model.add(keras.layers.Dense(10,input_dim=16, activation= tf.nn.softmax))\n",
    "model.compile(optimizer='adam', loss='sparse_categorical_crossentropy', metrics= ['accuracy'])\n",
    "model.fit(X, y_train, epochs=3)\n"
   ]
  },
  {
   "cell_type": "code",
   "execution_count": 72,
   "metadata": {
    "collapsed": true
   },
   "outputs": [],
   "source": [
    "X_test = encoder.predict(X_test)"
   ]
  },
  {
   "cell_type": "code",
   "execution_count": 73,
   "metadata": {},
   "outputs": [
    {
     "name": "stdout",
     "output_type": "stream",
     "text": [
      "10000/10000 [==============================] - 0s 40us/step\n",
      "(0.61582586145401, 0.8076)\n"
     ]
    }
   ],
   "source": [
    "val_loss, val_acc = model.evaluate(X_test, y_test)\n",
    "print(val_loss, val_acc)"
   ]
  },
  {
   "cell_type": "code",
   "execution_count": 74,
   "metadata": {
    "collapsed": true
   },
   "outputs": [],
   "source": [
    "predictions = model.predict([X_test])"
   ]
  },
  {
   "cell_type": "code",
   "execution_count": 77,
   "metadata": {},
   "outputs": [
    {
     "name": "stdout",
     "output_type": "stream",
     "text": [
      "7\n"
     ]
    }
   ],
   "source": [
    "print(np.argmax(predictions[0]))"
   ]
  },
  {
   "cell_type": "code",
   "execution_count": null,
   "metadata": {
    "collapsed": true
   },
   "outputs": [],
   "source": []
  }
 ],
 "metadata": {
  "kernelspec": {
   "display_name": "env_autoencoder",
   "language": "python",
   "name": "env_autoencoder"
  },
  "language_info": {
   "codemirror_mode": {
    "name": "ipython",
    "version": 2
   },
   "file_extension": ".py",
   "mimetype": "text/x-python",
   "name": "python",
   "nbconvert_exporter": "python",
   "pygments_lexer": "ipython2",
   "version": "2.7.12"
  }
 },
 "nbformat": 4,
 "nbformat_minor": 2
}
