{
  "nbformat": 4,
  "nbformat_minor": 0,
  "metadata": {
    "colab": {
      "name": "argskargs.ipynb",
      "provenance": [],
      "authorship_tag": "ABX9TyMracC6eE2rzHXoYt802h6c",
      "include_colab_link": true
    },
    "kernelspec": {
      "name": "python3",
      "display_name": "Python 3"
    }
  },
  "cells": [
    {
      "cell_type": "markdown",
      "metadata": {
        "id": "view-in-github",
        "colab_type": "text"
      },
      "source": [
        "<a href=\"https://colab.research.google.com/github/Debottam/Autoencoder/blob/master/argskargs.ipynb\" target=\"_parent\"><img src=\"https://colab.research.google.com/assets/colab-badge.svg\" alt=\"Open In Colab\"/></a>"
      ]
    },
    {
      "cell_type": "markdown",
      "metadata": {
        "id": "vDLZKVxhmETs",
        "colab_type": "text"
      },
      "source": [
        "Args"
      ]
    },
    {
      "cell_type": "code",
      "metadata": {
        "id": "DZUnp-H-mG3Y",
        "colab_type": "code",
        "colab": {}
      },
      "source": [
        "def add(a,b,c):\n",
        "    return a+b+c"
      ],
      "execution_count": 0,
      "outputs": []
    },
    {
      "cell_type": "code",
      "metadata": {
        "id": "xFAd4z3qmP5H",
        "colab_type": "code",
        "colab": {
          "base_uri": "https://localhost:8080/",
          "height": 34
        },
        "outputId": "8552714f-52e2-44ee-b081-9eb5042fdbe2"
      },
      "source": [
        "g = add(2,3,4)\n",
        "print(\"the out put is : {}\".format(g))"
      ],
      "execution_count": 13,
      "outputs": [
        {
          "output_type": "stream",
          "text": [
            "the out put is : 9\n"
          ],
          "name": "stdout"
        }
      ]
    },
    {
      "cell_type": "code",
      "metadata": {
        "id": "F9uMY3z8mo9_",
        "colab_type": "code",
        "colab": {
          "base_uri": "https://localhost:8080/",
          "height": 181
        },
        "outputId": "05333dfe-de88-4ee2-a94b-240ed38e4de4"
      },
      "source": [
        "g = add(2,3,4,5)\n",
        "print(\"the out put is : {}\".format(g))"
      ],
      "execution_count": 14,
      "outputs": [
        {
          "output_type": "error",
          "ename": "TypeError",
          "evalue": "ignored",
          "traceback": [
            "\u001b[0;31m---------------------------------------------------------------------------\u001b[0m",
            "\u001b[0;31mTypeError\u001b[0m                                 Traceback (most recent call last)",
            "\u001b[0;32m<ipython-input-14-b83aadddf094>\u001b[0m in \u001b[0;36m<module>\u001b[0;34m()\u001b[0m\n\u001b[0;32m----> 1\u001b[0;31m \u001b[0mg\u001b[0m \u001b[0;34m=\u001b[0m \u001b[0madd\u001b[0m\u001b[0;34m(\u001b[0m\u001b[0;36m2\u001b[0m\u001b[0;34m,\u001b[0m\u001b[0;36m3\u001b[0m\u001b[0;34m,\u001b[0m\u001b[0;36m4\u001b[0m\u001b[0;34m,\u001b[0m\u001b[0;36m5\u001b[0m\u001b[0;34m)\u001b[0m\u001b[0;34m\u001b[0m\u001b[0;34m\u001b[0m\u001b[0m\n\u001b[0m\u001b[1;32m      2\u001b[0m \u001b[0mprint\u001b[0m\u001b[0;34m(\u001b[0m\u001b[0;34m\"the out put is : {}\"\u001b[0m\u001b[0;34m.\u001b[0m\u001b[0mformat\u001b[0m\u001b[0;34m(\u001b[0m\u001b[0mg\u001b[0m\u001b[0;34m)\u001b[0m\u001b[0;34m)\u001b[0m\u001b[0;34m\u001b[0m\u001b[0;34m\u001b[0m\u001b[0m\n",
            "\u001b[0;31mTypeError\u001b[0m: add() takes 3 positional arguments but 4 were given"
          ]
        }
      ]
    },
    {
      "cell_type": "markdown",
      "metadata": {
        "id": "mUrLSCn4pwVh",
        "colab_type": "text"
      },
      "source": [
        "*Args"
      ]
    },
    {
      "cell_type": "code",
      "metadata": {
        "id": "iw7EOik9pV5c",
        "colab_type": "code",
        "colab": {}
      },
      "source": [
        "def add_args(*args):\n",
        "    total = 0\n",
        "    for arg in args:\n",
        "        total+=arg\n",
        "    return total"
      ],
      "execution_count": 0,
      "outputs": []
    },
    {
      "cell_type": "code",
      "metadata": {
        "id": "WB0pskBGplrh",
        "colab_type": "code",
        "colab": {
          "base_uri": "https://localhost:8080/",
          "height": 34
        },
        "outputId": "dd924132-a91a-4949-957f-ef47df7f97e3"
      },
      "source": [
        "g = add_args(2,3,4,5)\n",
        "print(\"the out put is : {}\".format(g))"
      ],
      "execution_count": 16,
      "outputs": [
        {
          "output_type": "stream",
          "text": [
            "the out put is : 14\n"
          ],
          "name": "stdout"
        }
      ]
    },
    {
      "cell_type": "code",
      "metadata": {
        "id": "y7wZpN57prls",
        "colab_type": "code",
        "colab": {
          "base_uri": "https://localhost:8080/",
          "height": 102
        },
        "outputId": "cec42a56-890a-4aa2-a620-48eb023e55b0"
      },
      "source": [
        "def func(*args):\n",
        "    # *args means for however many arguments you take in, it will catch them all\n",
        " \n",
        "    for arg in args:\n",
        "        print(arg)\n",
        "     \n",
        "func(11,3,4,5,\"tuts\")"
      ],
      "execution_count": 18,
      "outputs": [
        {
          "output_type": "stream",
          "text": [
            "11\n",
            "3\n",
            "4\n",
            "5\n",
            "tuts\n"
          ],
          "name": "stdout"
        }
      ]
    },
    {
      "cell_type": "code",
      "metadata": {
        "id": "uF5hJOuis-3x",
        "colab_type": "code",
        "colab": {
          "base_uri": "https://localhost:8080/",
          "height": 34
        },
        "outputId": "ff6a5dbe-b186-4376-a180-0a2424eb3731"
      },
      "source": [
        "def func(*args):\n",
        "    # *args means for however many arguments you take in, it will catch them all\n",
        " \n",
        "    for arg in args:\n",
        "        print(arg)\n",
        "     \n",
        " \n",
        "l = [11,3,4,5,\"tuts\"]\n",
        " \n",
        "func(l)"
      ],
      "execution_count": 20,
      "outputs": [
        {
          "output_type": "stream",
          "text": [
            "[11, 3, 4, 5, 'tuts']\n"
          ],
          "name": "stdout"
        }
      ]
    },
    {
      "cell_type": "code",
      "metadata": {
        "id": "E7kj8ndGtOBt",
        "colab_type": "code",
        "colab": {
          "base_uri": "https://localhost:8080/",
          "height": 102
        },
        "outputId": "700433fb-4b36-4bc1-84cc-2c2a94999188"
      },
      "source": [
        "def func(*args):\n",
        "    # *args means for however many arguments you take in, it will catch them all\n",
        " \n",
        "    for arg in args:\n",
        "        print(arg)\n",
        "     \n",
        " \n",
        "l = [11,3,4,5,\"tuts\"]\n",
        " \n",
        "func(*l)"
      ],
      "execution_count": 21,
      "outputs": [
        {
          "output_type": "stream",
          "text": [
            "11\n",
            "3\n",
            "4\n",
            "5\n",
            "tuts\n"
          ],
          "name": "stdout"
        }
      ]
    },
    {
      "cell_type": "markdown",
      "metadata": {
        "id": "lwEZ30r5vm0_",
        "colab_type": "text"
      },
      "source": [
        "Kwargs"
      ]
    },
    {
      "cell_type": "code",
      "metadata": {
        "id": "sCgsQ_3OvovM",
        "colab_type": "code",
        "colab": {}
      },
      "source": [
        "def my_func(x=10,y=20):\n",
        "    print(x,y)"
      ],
      "execution_count": 0,
      "outputs": []
    },
    {
      "cell_type": "code",
      "metadata": {
        "id": "cbBdOIfjvzex",
        "colab_type": "code",
        "colab": {
          "base_uri": "https://localhost:8080/",
          "height": 34
        },
        "outputId": "72f792e5-ed59-439d-c5d1-0671d709bd3a"
      },
      "source": [
        "my_func(4,5)"
      ],
      "execution_count": 24,
      "outputs": [
        {
          "output_type": "stream",
          "text": [
            "4 5\n"
          ],
          "name": "stdout"
        }
      ]
    },
    {
      "cell_type": "code",
      "metadata": {
        "id": "jn2WEZ-Zv86d",
        "colab_type": "code",
        "colab": {}
      },
      "source": [
        "def capital_cities(**kwargs): \n",
        "    # initialize an empty list to store the result\n",
        "    result = []\n",
        "    for key, value in kwargs.items():\n",
        "        result.append(\"The capital city of {} is {} \".format (key,value))\n",
        " \n",
        "    return result"
      ],
      "execution_count": 0,
      "outputs": []
    },
    {
      "cell_type": "code",
      "metadata": {
        "id": "_CJkhr3PwUmm",
        "colab_type": "code",
        "colab": {
          "base_uri": "https://localhost:8080/",
          "height": 34
        },
        "outputId": "f42af8be-0d3f-4846-c59d-3169fbe3a93d"
      },
      "source": [
        "print (capital_cities(China = \"Beijing\",Cairo = \"Egypt\",Rome = \"Italy\"))"
      ],
      "execution_count": 27,
      "outputs": [
        {
          "output_type": "stream",
          "text": [
            "['The capital city of China is Beijing ', 'The capital city of Cairo is Egypt ', 'The capital city of Rome is Italy ']\n"
          ],
          "name": "stdout"
        }
      ]
    },
    {
      "cell_type": "code",
      "metadata": {
        "id": "sMuGrSumxFmV",
        "colab_type": "code",
        "colab": {}
      },
      "source": [
        ""
      ],
      "execution_count": 0,
      "outputs": []
    }
  ]
}