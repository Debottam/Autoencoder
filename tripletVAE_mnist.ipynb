{
  "nbformat": 4,
  "nbformat_minor": 0,
  "metadata": {
    "colab": {
      "name": "tripletVAE_mnist.ipynb",
      "provenance": [],
      "authorship_tag": "ABX9TyNltSfarT55ByVpSR5JyF0l",
      "include_colab_link": true
    },
    "kernelspec": {
      "name": "python3",
      "display_name": "Python 3"
    }
  },
  "cells": [
    {
      "cell_type": "markdown",
      "metadata": {
        "id": "view-in-github",
        "colab_type": "text"
      },
      "source": [
        "<a href=\"https://colab.research.google.com/github/Debottam/Autoencoder/blob/master/tripletVAE_mnist.ipynb\" target=\"_parent\"><img src=\"https://colab.research.google.com/assets/colab-badge.svg\" alt=\"Open In Colab\"/></a>"
      ]
    },
    {
      "cell_type": "code",
      "metadata": {
        "id": "sdISc8VEdoUf",
        "outputId": "d84bb01c-ea6c-443b-ee82-a7cf41796b29",
        "colab": {
          "base_uri": "https://localhost:8080/",
          "height": 51
        }
      },
      "source": [
        "import tensorflow as tf\n",
        "from tensorflow import keras\n",
        "import matplotlib.pyplot as plt\n",
        "import numpy as np\n",
        "import random\n",
        "from sklearn.utils import check_random_state\n",
        "print(\"tf version: \", tf.__version__)\n",
        "print(\"keras version: \", keras.__version__)"
      ],
      "execution_count": 1,
      "outputs": [
        {
          "output_type": "stream",
          "text": [
            "tf version:  2.3.0\n",
            "keras version:  2.4.0\n"
          ],
          "name": "stdout"
        }
      ]
    },
    {
      "cell_type": "code",
      "metadata": {
        "id": "SxC919x_d5zH",
        "outputId": "cf0260d9-03de-4209-bee3-f4ee3acb9557",
        "colab": {
          "base_uri": "https://localhost:8080/",
          "height": 51
        }
      },
      "source": [
        "(x_train, y_train),(x_test, y_test) = keras.datasets.mnist.load_data()\n",
        "x_train = x_train.reshape(len(x_train), np.prod(x_train.shape[1:]))\n",
        "x_test = x_test.reshape(len(x_test), np.prod(x_test.shape[1:]))"
      ],
      "execution_count": 2,
      "outputs": [
        {
          "output_type": "stream",
          "text": [
            "Downloading data from https://storage.googleapis.com/tensorflow/tf-keras-datasets/mnist.npz\n",
            "11493376/11490434 [==============================] - 0s 0us/step\n"
          ],
          "name": "stdout"
        }
      ]
    },
    {
      "cell_type": "code",
      "metadata": {
        "id": "8fsQs_Rg4HRf",
        "outputId": "8a8d7d21-4b96-40ca-9f8f-f33d1eae4449",
        "colab": {
          "base_uri": "https://localhost:8080/",
          "height": 34
        }
      },
      "source": [
        "x_1 = [x_train[i] for i in range(len(y_train)) if y_train[i]==1]\n",
        "x_1 = np.array(x_1)\n",
        "x_1.shape"
      ],
      "execution_count": 3,
      "outputs": [
        {
          "output_type": "execute_result",
          "data": {
            "text/plain": [
              "(6742, 784)"
            ]
          },
          "metadata": {
            "tags": []
          },
          "execution_count": 3
        }
      ]
    },
    {
      "cell_type": "code",
      "metadata": {
        "id": "JdHncAdH5blN",
        "outputId": "d139c8a0-db59-49ae-9f1b-58c35b02af5b",
        "colab": {
          "base_uri": "https://localhost:8080/",
          "height": 282
        }
      },
      "source": [
        "plt.imshow(x_1[3].reshape(28, 28), cmap=plt.cm.binary)"
      ],
      "execution_count": 4,
      "outputs": [
        {
          "output_type": "execute_result",
          "data": {
            "text/plain": [
              "<matplotlib.image.AxesImage at 0x7f957513b3c8>"
            ]
          },
          "metadata": {
            "tags": []
          },
          "execution_count": 4
        },
        {
          "output_type": "display_data",
          "data": {
            "image/png": "[encoded data removed]",
            "text/plain": [
              "<Figure size 432x288 with 1 Axes>"
            ]
          },
          "metadata": {
            "tags": [],
            "needs_background": "light"
          }
        }
      ]
    },
    {
      "cell_type": "code",
      "metadata": {
        "id": "KERClrnI5pyb"
      },
      "source": [
        "x_2 = [x_train[i] for i in range(len(y_train)) if y_train[i]==8]\n",
        "x_2 = np.array(x_2)"
      ],
      "execution_count": 5,
      "outputs": []
    },
    {
      "cell_type": "code",
      "metadata": {
        "id": "DRJZoXai7D_K",
        "outputId": "bbbe4fa2-dd2a-4d68-c30a-819ae223ad23",
        "colab": {
          "base_uri": "https://localhost:8080/",
          "height": 34
        }
      },
      "source": [
        "x_2.shape"
      ],
      "execution_count": 6,
      "outputs": [
        {
          "output_type": "execute_result",
          "data": {
            "text/plain": [
              "(5851, 784)"
            ]
          },
          "metadata": {
            "tags": []
          },
          "execution_count": 6
        }
      ]
    },
    {
      "cell_type": "code",
      "metadata": {
        "id": "1FTRMBSj5xWg",
        "outputId": "aa29c5a3-976d-484e-df67-920c7dad0503",
        "colab": {
          "base_uri": "https://localhost:8080/",
          "height": 282
        }
      },
      "source": [
        "plt.imshow(x_2[1].reshape(28, 28), cmap=plt.cm.binary)"
      ],
      "execution_count": 7,
      "outputs": [
        {
          "output_type": "execute_result",
          "data": {
            "text/plain": [
              "<matplotlib.image.AxesImage at 0x7f9574cbab00>"
            ]
          },
          "metadata": {
            "tags": []
          },
          "execution_count": 7
        },
        {
          "output_type": "display_data",
          "data": {
            "image/png": "[encoded data removed]",
            "text/plain": [
              "<Figure size 432x288 with 1 Axes>"
            ]
          },
          "metadata": {
            "tags": [],
            "needs_background": "light"
          }
        }
      ]
    },
    {
      "cell_type": "code",
      "metadata": {
        "id": "LmzhV8kF94XH"
      },
      "source": [
        "x_1_pr = x_1/255.\n",
        "x_2_pr = x_2/255."
      ],
      "execution_count": 8,
      "outputs": []
    },
    {
      "cell_type": "code",
      "metadata": {
        "id": "YQoXlite9fhk",
        "outputId": "ea5fc987-edcc-4f7c-d6a7-82e316478c91",
        "colab": {
          "base_uri": "https://localhost:8080/",
          "height": 51
        }
      },
      "source": [
        "# mixing x_1 and x_2 samples\n",
        "mixed_train = np.concatenate((x_1,x_2), axis = 0)\n",
        "y = np.concatenate((np.zeros((len(x_1))),np.ones((len(x_2)))), axis=0)\n",
        "rng = check_random_state(1)\n",
        "indices_1 = rng.permutation(len(mixed_train))\n",
        "mixed_train_rnd = mixed_train[indices_1]\n",
        "y_rnd = y[indices_1]\n",
        "print(\"mixed_train_rnd: \",mixed_train_rnd.shape)\n",
        "print(\"y_rnd: \",y_rnd.shape)"
      ],
      "execution_count": 10,
      "outputs": [
        {
          "output_type": "stream",
          "text": [
            "mixed_train_rnd:  (12593, 784)\n",
            "y_rnd:  (12593,)\n"
          ],
          "name": "stdout"
        }
      ]
    },
    {
      "cell_type": "code",
      "metadata": {
        "id": "YrM5abEU63vf"
      },
      "source": [
        "bkg_index = np.where(y_rnd==0)[0]\n",
        "def create_batch(batch_size=64):\n",
        "    x_anchors = np.zeros((batch_size, 784))\n",
        "    x_positives = np.zeros((batch_size, 784))\n",
        "    x_negatives = np.zeros((batch_size, 784))\n",
        "    \n",
        "    for i in range(0,batch_size):\n",
        "        # We need to find an anchor, a positive example and a negative example\n",
        "        random_index = random.choice(bkg_index)\n",
        "        x_anchor = mixed_train_rnd[random_index]\n",
        "        y = y_rnd[random_index]\n",
        "        \n",
        "        indices_for_pos = np.squeeze(np.where(y_rnd == y))\n",
        "        indices_for_neg = np.squeeze(np.where(y_rnd != y))\n",
        "        \n",
        "        x_positive = mixed_train_rnd[indices_for_pos[random.randint(0, len(indices_for_pos) - 1)]]\n",
        "        x_negative = mixed_train_rnd[indices_for_neg[random.randint(0, len(indices_for_neg) - 1)]]\n",
        "        \n",
        "        x_anchors[i] = x_anchor\n",
        "        x_positives[i] = x_positive\n",
        "        x_negatives[i] = x_negative\n",
        "        \n",
        "    return [x_anchors, x_positives, x_negatives]"
      ],
      "execution_count": 11,
      "outputs": []
    },
    {
      "cell_type": "code",
      "metadata": {
        "id": "bsLKu76rEPk_"
      },
      "source": [
        "x, y, z = create_batch(2)"
      ],
      "execution_count": 12,
      "outputs": []
    },
    {
      "cell_type": "code",
      "metadata": {
        "id": "Y1OoZgcLEZdj",
        "outputId": "67b6b49b-5af1-4870-dc73-81c29f352dfe",
        "colab": {
          "base_uri": "https://localhost:8080/",
          "height": 34
        }
      },
      "source": [
        "x.shape"
      ],
      "execution_count": 13,
      "outputs": [
        {
          "output_type": "execute_result",
          "data": {
            "text/plain": [
              "(2, 784)"
            ]
          },
          "metadata": {
            "tags": []
          },
          "execution_count": 13
        }
      ]
    },
    {
      "cell_type": "code",
      "metadata": {
        "id": "WyO3GtW4EpyT",
        "outputId": "db813669-2a2f-4df9-c7f6-e517ef7154cc",
        "colab": {
          "base_uri": "https://localhost:8080/",
          "height": 282
        }
      },
      "source": [
        "plt.imshow((z[0].reshape(28, 28))*255., cmap=plt.cm.binary)"
      ],
      "execution_count": 14,
      "outputs": [
        {
          "output_type": "execute_result",
          "data": {
            "text/plain": [
              "<matplotlib.image.AxesImage at 0x7f9574c72470>"
            ]
          },
          "metadata": {
            "tags": []
          },
          "execution_count": 14
        },
        {
          "output_type": "display_data",
          "data": {
            "image/png": "[encoded data removed]",
            "text/plain": [
              "<Figure size 432x288 with 1 Axes>"
            ]
          },
          "metadata": {
            "tags": [],
            "needs_background": "light"
          }
        }
      ]
    },
    {
      "cell_type": "code",
      "metadata": {
        "id": "l4xWuIU3kYz5"
      },
      "source": [
        "# kl_loss\n",
        "def kl_reconstruction_loss(x, recon_x, mu, log_var):\n",
        "    #reco_loss = tf.reduce_mean(tf.square(x - recon_x))\n",
        "    kl_loss = 1 + log_var - tf.square(mu) - tf.exp(log_var)\n",
        "    kl_loss = tf.reduce_sum(kl_loss, axis= -1)\n",
        "    kl_loss *= -0.5\n",
        "    return tf.reduce_mean(kl_loss)\n",
        "\n",
        "# triplet loss\n",
        "def triplet_loss(anchor, positive, negative):\n",
        "    positive_dist = tf.reduce_mean(tf.square(anchor - positive), axis=1)\n",
        "    negative_dist = tf.reduce_mean(tf.square(anchor - negative), axis=1)\n",
        "    return tf.maximum(positive_dist - negative_dist + alpha, 0.)"
      ],
      "execution_count": 51,
      "outputs": []
    },
    {
      "cell_type": "code",
      "metadata": {
        "id": "2K_Ip2AwlM79"
      },
      "source": [
        "input_dim = 784\n",
        "encoding_dim = 10\n",
        "inputs = keras.Input((None, input_dim))\n",
        "\n",
        "class _Encoder(keras.Model):\n",
        "    def __init__(self, **kwargs):\n",
        "        super().__init__(**kwargs)\n",
        "        self.layer_1 = keras.layers.Dense(256, activation=\"relu\")\n",
        "        self.layer_2 = keras.layers.Dense(128, activation=\"relu\")\n",
        "        self.layer_3 = keras.layers.Dense(64, activation=\"relu\")\n",
        "\n",
        "    def call(self,inputs):\n",
        "        x = self.layer_1(inputs)\n",
        "        x = self.layer_2(x)\n",
        "        x = self.layer_3(x)\n",
        "        self.mean = keras.layers.Dense(encoding_dim, name=\"z_mean\")(x)\n",
        "        self.log_var = keras.layers.Dense(encoding_dim, name=\"z_log_var\")(x)\n",
        "        self.z = keras.layers.Lambda(sampling, output_shape=(encoding_dim,), name='z')([self.mean, self.log_var])\n",
        "        return self.z, self.mean, self.log_var\n",
        "\n",
        "class _Decoder(keras.Model):\n",
        "    def __init__(self):\n",
        "        super(self).__init__()\n",
        "        self.layer_1 = keras.layers.Dense(128, activation=\"relu\")\n",
        "        self.layer_2 = keras.layers.Dense(256, activation=\"relu\")\n",
        "        self.layer_3 = keras.layers.Dense(784, activation=\"sigmoid\")\n",
        "        \n",
        "    def call(self,inputs):\n",
        "        x = self.layer_1(inputs)\n",
        "        x = self.layer_2(x)\n",
        "        output = self.layer_3(x)\n",
        "        return output"
      ],
      "execution_count": 52,
      "outputs": []
    }
  ]
}